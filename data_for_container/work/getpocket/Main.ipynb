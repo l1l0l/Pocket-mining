{
 "cells": [
  {
   "cell_type": "code",
   "execution_count": 36,
   "metadata": {},
   "outputs": [],
   "source": [
    "#import bamboolib\n",
    "import json\n",
    "from functools import reduce\n",
    "import pandas as pd\n",
    "from datetime import datetime\n",
    "from pocket_api import do_post_request, get_request_token, retrieve_items, REQUEST_URL, GET_URL\n",
    "from config import CONSUMER_KEY, ACCESS_TOKEN"
   ]
  },
  {
   "cell_type": "code",
   "execution_count": 2,
   "metadata": {},
   "outputs": [
    {
     "data": {
      "text/plain": [
       "'9f633702-2d76-3275-1157-6ee52a'"
      ]
     },
     "execution_count": 2,
     "metadata": {},
     "output_type": "execute_result"
    }
   ],
   "source": [
    "get_request_token()"
   ]
  },
  {
   "cell_type": "code",
   "execution_count": 35,
   "metadata": {},
   "outputs": [],
   "source": [
    "data = {\n",
    "    'consumer_key': CONSUMER_KEY, \n",
    "    'access_token': ACCESS_TOKEN,\n",
    "    'detailType': 'complete',\n",
    "    'sort': 'newest',\n",
    "    'since' : 1585900000\n",
    "}\n",
    "all_tags_response = do_post_request(GET_URL, data)\n",
    "all_tags = json.loads(all_tags_response.decode('utf-8'))\n",
    "tags_dict = all_tags['list']"
   ]
  },
  {
   "cell_type": "code",
   "execution_count": 136,
   "metadata": {},
   "outputs": [
    {
     "data": {
      "text/plain": [
       "2"
      ]
     },
     "execution_count": 136,
     "metadata": {},
     "output_type": "execute_result"
    }
   ],
   "source": [
    "retrieve_result = retrieve(detailType='complete', sort='newest', search='economi')\n",
    "len(retrieve_result['list'])"
   ]
  },
  {
   "cell_type": "code",
   "execution_count": 23,
   "metadata": {
    "collapsed": true,
    "jupyter": {
     "outputs_hidden": true
    }
   },
   "outputs": [
    {
     "name": "stdout",
     "output_type": "stream",
     "text": [
      "status\n",
      "complete\n",
      "list\n",
      "error\n",
      "search_meta\n",
      "since\n",
      "{'search_type': 'normal'}\n"
     ]
    }
   ],
   "source": [
    "for k,v in retrieve_result.items():\n",
    "    print(k)\n",
    "print(retrieve_result['search_meta'])"
   ]
  },
  {
   "cell_type": "code",
   "execution_count": 137,
   "metadata": {},
   "outputs": [
    {
     "data": {
      "text/plain": [
       "['1939447929', '2109873211']"
      ]
     },
     "execution_count": 137,
     "metadata": {},
     "output_type": "execute_result"
    }
   ],
   "source": [
    "itemId_list = list(reduce(lambda x,y:(x[0],y[0]) if isinstance(x[-1],dict) else x+(y[0],), \\\n",
    "                          retrieve_result['list'].items()))"
   ]
  },
  {
   "cell_type": "code",
   "execution_count": 177,
   "metadata": {},
   "outputs": [
    {
     "data": {
      "text/plain": [
       "{'item_id': '2109873211',\n",
       " 'resolved_id': '2109873211',\n",
       " 'given_url': 'http://www.leconomiste.com/article/port-de-casablancabrmarsa-maroc-construit-un-parking-5-niveaux',\n",
       " 'given_title': \"Port de CasablancaMarsa Maroc construit un parking à 5 niveaux | L'Economis\",\n",
       " 'favorite': '0',\n",
       " 'status': '0',\n",
       " 'time_added': '1520787987',\n",
       " 'time_updated': '1520788023',\n",
       " 'time_read': '0',\n",
       " 'time_favorited': '0',\n",
       " 'sort_id': 1,\n",
       " 'resolved_title': 'Port de CasablancaMarsa Maroc construit un parking à 5 niveaux',\n",
       " 'resolved_url': 'http://www.leconomiste.com/article/port-de-casablancabrmarsa-maroc-construit-un-parking-5-niveaux',\n",
       " 'excerpt': '',\n",
       " 'is_article': '0',\n",
       " 'is_index': '0',\n",
       " 'has_video': '0',\n",
       " 'has_image': '0',\n",
       " 'word_count': '0',\n",
       " 'lang': 'fr',\n",
       " 'top_image_url': 'http://www.leconomiste.com/sites/default/files/eco7/public/default_images/default_une.jpg',\n",
       " 'tags': {'bymaroc': {'item_id': '2109873211', 'tag': 'bymaroc'},\n",
       "  'casablanca': {'item_id': '2109873211', 'tag': 'casablanca'},\n",
       "  'maroc': {'item_id': '2109873211', 'tag': 'maroc'},\n",
       "  'parking à étages': {'item_id': '2109873211', 'tag': 'parking à étages'}},\n",
       " 'listen_duration_estimate': 0}"
      ]
     },
     "execution_count": 177,
     "metadata": {},
     "output_type": "execute_result"
    }
   ],
   "source": [
    "pocket_items_list = list(reduce(lambda x,y: (x[1],y[1]) if isinstance(x[0],str) else x+(y[1],), \\\n",
    "                                retrieve_result['list'].items()))"
   ]
  },
  {
   "cell_type": "code",
   "execution_count": 170,
   "metadata": {},
   "outputs": [
    {
     "name": "stdout",
     "output_type": "stream",
     "text": [
      "<class 'str'>\n",
      "<class 'dict'>\n",
      "<class 'str'>\n",
      "<class 'dict'>\n"
     ]
    },
    {
     "data": {
      "text/plain": [
       "dict_items([('1939447929', {'item_id': '1939447929', 'resolved_id': '1939447929', 'given_url': 'https://www.ouest-france.fr/economie/entreprises/amazon/amazon-key-un-nouveau-dispositif-pour-livrer-en-l-absence-des-clients-5342327', 'given_title': \"Amazon Key. Un nouveau dispositif pour livrer en l'absence des clients\", 'favorite': '0', 'status': '0', 'time_added': '1522505529', 'time_updated': '1585912631', 'time_read': '0', 'time_favorited': '0', 'sort_id': 0, 'resolved_title': \"Amazon Key. Un nouveau dispositif pour livrer en l'absence des clients\", 'resolved_url': 'https://www.ouest-france.fr/economie/entreprises/amazon/amazon-key-un-nouveau-dispositif-pour-livrer-en-l-absence-des-clients-5342327', 'excerpt': \"La société américaine Amazon lance Amazon Key, un système de verrouillage et de caméra que les utilisateurs contrôlent à distance pour permettre aux livreurs d'entrer dans leur maison en leur absence.\", 'is_article': '1', 'is_index': '0', 'has_video': '0', 'has_image': '1', 'word_count': '360', 'lang': 'fr', 'amp_url': 'https://www.ouest-france.fr/economie/entreprises/amazon/amazon-key-un-nouveau-dispositif-pour-livrer-en-l-absence-des-clients-5342327/amp', 'top_image_url': 'https://www.ouest-france.fr/sites/default/files/styles/image-900x500/public/2017/10/27/amazon.jpg?itok=swPuzjcL', 'tags': {'amazon': {'item_id': '1939447929', 'tag': 'amazon'}, 'graal': {'item_id': '1939447929', 'tag': 'graal'}, 'innovation': {'item_id': '1939447929', 'tag': 'innovation'}, 'news': {'item_id': '1939447929', 'tag': 'news'}, 'service': {'item_id': '1939447929', 'tag': 'service'}}, 'authors': {'56586495': {'item_id': '1939447929', 'author_id': '56586495', 'name': 'Rennes School', 'url': ''}}, 'image': {'item_id': '1939447929', 'src': 'https://www.ouest-france.fr/sites/default/files/styles/image-640x360/public/2017/10/27/amazon.jpg?itok=XaMj8Oe0', 'width': '640', 'height': '360'}, 'images': {'1': {'item_id': '1939447929', 'image_id': '1', 'src': 'https://www.ouest-france.fr/sites/default/files/styles/image-640x360/public/2017/10/27/amazon.jpg?itok=XaMj8Oe0', 'width': '640', 'height': '360', 'credit': '', 'caption': 'Les utilisateurs peuvent se doter de la \"Cloud Cam\" pour visualiser la livraison à distance. | Reuters'}}, 'domain_metadata': {'name': 'Ouest-France', 'logo': 'https://logo.clearbit.com/ouest-france.fr?size=800', 'greyscale_logo': 'https://logo.clearbit.com/ouest-france.fr?size=800&greyscale=true'}, 'listen_duration_estimate': 139}), ('2109873211', {'item_id': '2109873211', 'resolved_id': '2109873211', 'given_url': 'http://www.leconomiste.com/article/port-de-casablancabrmarsa-maroc-construit-un-parking-5-niveaux', 'given_title': \"Port de CasablancaMarsa Maroc construit un parking à 5 niveaux | L'Economis\", 'favorite': '0', 'status': '0', 'time_added': '1520787987', 'time_updated': '1520788023', 'time_read': '0', 'time_favorited': '0', 'sort_id': 1, 'resolved_title': 'Port de CasablancaMarsa Maroc construit un parking à 5 niveaux', 'resolved_url': 'http://www.leconomiste.com/article/port-de-casablancabrmarsa-maroc-construit-un-parking-5-niveaux', 'excerpt': '', 'is_article': '0', 'is_index': '0', 'has_video': '0', 'has_image': '0', 'word_count': '0', 'lang': 'fr', 'top_image_url': 'http://www.leconomiste.com/sites/default/files/eco7/public/default_images/default_une.jpg', 'tags': {'bymaroc': {'item_id': '2109873211', 'tag': 'bymaroc'}, 'casablanca': {'item_id': '2109873211', 'tag': 'casablanca'}, 'maroc': {'item_id': '2109873211', 'tag': 'maroc'}, 'parking à étages': {'item_id': '2109873211', 'tag': 'parking à étages'}}, 'listen_duration_estimate': 0})])"
      ]
     },
     "execution_count": 170,
     "metadata": {},
     "output_type": "execute_result"
    }
   ],
   "source": [
    "for k,v in retrieve_result['list'].items():\n",
    "    print(type(k)),print(type(v))\n",
    "retrieve_result['list'].items()"
   ]
  },
  {
   "cell_type": "code",
   "execution_count": 159,
   "metadata": {},
   "outputs": [
    {
     "data": {
      "text/plain": [
       "['2109873211',\n",
       " {'item_id': '2109873211',\n",
       "  'resolved_id': '2109873211',\n",
       "  'given_url': 'http://www.leconomiste.com/article/port-de-casablancabrmarsa-maroc-construit-un-parking-5-niveaux',\n",
       "  'given_title': \"Port de CasablancaMarsa Maroc construit un parking à 5 niveaux | L'Economis\",\n",
       "  'favorite': '0',\n",
       "  'status': '0',\n",
       "  'time_added': '1520787987',\n",
       "  'time_updated': '1520788023',\n",
       "  'time_read': '0',\n",
       "  'time_favorited': '0',\n",
       "  'sort_id': 1,\n",
       "  'resolved_title': 'Port de CasablancaMarsa Maroc construit un parking à 5 niveaux',\n",
       "  'resolved_url': 'http://www.leconomiste.com/article/port-de-casablancabrmarsa-maroc-construit-un-parking-5-niveaux',\n",
       "  'excerpt': '',\n",
       "  'is_article': '0',\n",
       "  'is_index': '0',\n",
       "  'has_video': '0',\n",
       "  'has_image': '0',\n",
       "  'word_count': '0',\n",
       "  'lang': 'fr',\n",
       "  'top_image_url': 'http://www.leconomiste.com/sites/default/files/eco7/public/default_images/default_une.jpg',\n",
       "  'tags': {'bymaroc': {'item_id': '2109873211', 'tag': 'bymaroc'},\n",
       "   'casablanca': {'item_id': '2109873211', 'tag': 'casablanca'},\n",
       "   'maroc': {'item_id': '2109873211', 'tag': 'maroc'},\n",
       "   'parking à étages': {'item_id': '2109873211', 'tag': 'parking à étages'}},\n",
       "  'listen_duration_estimate': 0}]"
      ]
     },
     "execution_count": 159,
     "metadata": {},
     "output_type": "execute_result"
    }
   ],
   "source": [
    "pocket_items_list"
   ]
  },
  {
   "cell_type": "code",
   "execution_count": 141,
   "metadata": {},
   "outputs": [
    {
     "data": {
      "text/plain": [
       "dict_items([('1939447929', {'item_id': '1939447929', 'resolved_id': '1939447929', 'given_url': 'https://www.ouest-france.fr/economie/entreprises/amazon/amazon-key-un-nouveau-dispositif-pour-livrer-en-l-absence-des-clients-5342327', 'given_title': \"Amazon Key. Un nouveau dispositif pour livrer en l'absence des clients\", 'favorite': '0', 'status': '0', 'time_added': '1522505529', 'time_updated': '1585912631', 'time_read': '0', 'time_favorited': '0', 'sort_id': 0, 'resolved_title': \"Amazon Key. Un nouveau dispositif pour livrer en l'absence des clients\", 'resolved_url': 'https://www.ouest-france.fr/economie/entreprises/amazon/amazon-key-un-nouveau-dispositif-pour-livrer-en-l-absence-des-clients-5342327', 'excerpt': \"La société américaine Amazon lance Amazon Key, un système de verrouillage et de caméra que les utilisateurs contrôlent à distance pour permettre aux livreurs d'entrer dans leur maison en leur absence.\", 'is_article': '1', 'is_index': '0', 'has_video': '0', 'has_image': '1', 'word_count': '360', 'lang': 'fr', 'amp_url': 'https://www.ouest-france.fr/economie/entreprises/amazon/amazon-key-un-nouveau-dispositif-pour-livrer-en-l-absence-des-clients-5342327/amp', 'top_image_url': 'https://www.ouest-france.fr/sites/default/files/styles/image-900x500/public/2017/10/27/amazon.jpg?itok=swPuzjcL', 'tags': {'amazon': {'item_id': '1939447929', 'tag': 'amazon'}, 'graal': {'item_id': '1939447929', 'tag': 'graal'}, 'innovation': {'item_id': '1939447929', 'tag': 'innovation'}, 'news': {'item_id': '1939447929', 'tag': 'news'}, 'service': {'item_id': '1939447929', 'tag': 'service'}}, 'authors': {'56586495': {'item_id': '1939447929', 'author_id': '56586495', 'name': 'Rennes School', 'url': ''}}, 'image': {'item_id': '1939447929', 'src': 'https://www.ouest-france.fr/sites/default/files/styles/image-640x360/public/2017/10/27/amazon.jpg?itok=XaMj8Oe0', 'width': '640', 'height': '360'}, 'images': {'1': {'item_id': '1939447929', 'image_id': '1', 'src': 'https://www.ouest-france.fr/sites/default/files/styles/image-640x360/public/2017/10/27/amazon.jpg?itok=XaMj8Oe0', 'width': '640', 'height': '360', 'credit': '', 'caption': 'Les utilisateurs peuvent se doter de la \"Cloud Cam\" pour visualiser la livraison à distance. | Reuters'}}, 'domain_metadata': {'name': 'Ouest-France', 'logo': 'https://logo.clearbit.com/ouest-france.fr?size=800', 'greyscale_logo': 'https://logo.clearbit.com/ouest-france.fr?size=800&greyscale=true'}, 'listen_duration_estimate': 139}), ('2109873211', {'item_id': '2109873211', 'resolved_id': '2109873211', 'given_url': 'http://www.leconomiste.com/article/port-de-casablancabrmarsa-maroc-construit-un-parking-5-niveaux', 'given_title': \"Port de CasablancaMarsa Maroc construit un parking à 5 niveaux | L'Economis\", 'favorite': '0', 'status': '0', 'time_added': '1520787987', 'time_updated': '1520788023', 'time_read': '0', 'time_favorited': '0', 'sort_id': 1, 'resolved_title': 'Port de CasablancaMarsa Maroc construit un parking à 5 niveaux', 'resolved_url': 'http://www.leconomiste.com/article/port-de-casablancabrmarsa-maroc-construit-un-parking-5-niveaux', 'excerpt': '', 'is_article': '0', 'is_index': '0', 'has_video': '0', 'has_image': '0', 'word_count': '0', 'lang': 'fr', 'top_image_url': 'http://www.leconomiste.com/sites/default/files/eco7/public/default_images/default_une.jpg', 'tags': {'bymaroc': {'item_id': '2109873211', 'tag': 'bymaroc'}, 'casablanca': {'item_id': '2109873211', 'tag': 'casablanca'}, 'maroc': {'item_id': '2109873211', 'tag': 'maroc'}, 'parking à étages': {'item_id': '2109873211', 'tag': 'parking à étages'}}, 'listen_duration_estimate': 0})])"
      ]
     },
     "execution_count": 141,
     "metadata": {},
     "output_type": "execute_result"
    }
   ],
   "source": [
    "retrieve_result['list'].items()"
   ]
  },
  {
   "cell_type": "code",
   "execution_count": 78,
   "metadata": {},
   "outputs": [],
   "source": [
    "pocket_items_list = []\n",
    "for k,v in retrieve_result['list'].items():\n",
    "    pocket_items_list.append(v)\n",
    "#tags_list"
   ]
  },
  {
   "cell_type": "code",
   "execution_count": 27,
   "metadata": {
    "collapsed": true,
    "jupyter": {
     "outputs_hidden": true
    }
   },
   "outputs": [
    {
     "data": {
      "text/plain": [
       "{'item_id': '2011690338',\n",
       " 'resolved_id': '2011690338',\n",
       " 'given_url': 'http://www.marrakech-cityguide.com/site-archeologique-de-aghmat-3187',\n",
       " 'given_title': 'Site archéologique de AGHMAT à 32 km de Marrakech',\n",
       " 'favorite': '0',\n",
       " 'status': '0',\n",
       " 'time_added': '1514897227',\n",
       " 'time_updated': '1514903673',\n",
       " 'time_read': '0',\n",
       " 'time_favorited': '0',\n",
       " 'sort_id': 0,\n",
       " 'resolved_title': 'Site archéologique de AGHMAT',\n",
       " 'resolved_url': 'http://www.marrakech-cityguide.com/site-archeologique-de-aghmat-3187',\n",
       " 'excerpt': 'Aghmat, est située à 32 km de Marrakech sur la route de l’Ourika, province de Al Haouz, c’est aussi une commune rurale locale créé en 1959.   La ville de Aghmat est considérée comme étant la plus ancienne ville marocaine, érigée même avant l’entrée de l’Islam au Maroc.',\n",
       " 'is_article': '1',\n",
       " 'is_index': '0',\n",
       " 'has_video': '0',\n",
       " 'has_image': '1',\n",
       " 'word_count': '225',\n",
       " 'lang': 'fr',\n",
       " 'amp_url': 'http://www.marrakech-cityguide.com/site-archeologique-de-aghmat-3187/amp/',\n",
       " 'top_image_url': 'http://www.marrakech-cityguide.com/wp-content/uploads/IMG_1311.jpg',\n",
       " 'tags': {'archéologie': {'item_id': '2011690338', 'tag': 'archéologie'},\n",
       "  'marrakech': {'item_id': '2011690338', 'tag': 'marrakech'},\n",
       "  'voyage': {'item_id': '2011690338', 'tag': 'voyage'}},\n",
       " 'authors': {'49416574': {'item_id': '2011690338',\n",
       "   'author_id': '49416574',\n",
       "   'name': 'Pierre-Marie Coupry',\n",
       "   'url': 'http://www.marrakech-cityguide.com/author/pm-seo/'}},\n",
       " 'image': {'item_id': '2011690338',\n",
       "  'src': 'http://www.marrakech-cityguide.com/wp-content/uploads/IMG_1311-620x420.jpg',\n",
       "  'width': '620',\n",
       "  'height': '420'},\n",
       " 'images': {'1': {'item_id': '2011690338',\n",
       "   'image_id': '1',\n",
       "   'src': 'http://www.marrakech-cityguide.com/wp-content/uploads/IMG_1311-620x420.jpg',\n",
       "   'width': '620',\n",
       "   'height': '420',\n",
       "   'credit': '',\n",
       "   'caption': ''}},\n",
       " 'listen_duration_estimate': 87}"
      ]
     },
     "execution_count": 27,
     "metadata": {},
     "output_type": "execute_result"
    }
   ],
   "source": [
    "pocket_items_list[0]"
   ]
  },
  {
   "cell_type": "code",
   "execution_count": 30,
   "metadata": {},
   "outputs": [
    {
     "data": {
      "text/html": [
       "<div>\n",
       "<style scoped>\n",
       "    .dataframe tbody tr th:only-of-type {\n",
       "        vertical-align: middle;\n",
       "    }\n",
       "\n",
       "    .dataframe tbody tr th {\n",
       "        vertical-align: top;\n",
       "    }\n",
       "\n",
       "    .dataframe thead th {\n",
       "        text-align: right;\n",
       "    }\n",
       "</style>\n",
       "<table border=\"1\" class=\"dataframe\">\n",
       "  <thead>\n",
       "    <tr style=\"text-align: right;\">\n",
       "      <th></th>\n",
       "      <th>item_id</th>\n",
       "      <th>resolved_id</th>\n",
       "      <th>given_url</th>\n",
       "      <th>given_title</th>\n",
       "      <th>favorite</th>\n",
       "      <th>status</th>\n",
       "      <th>time_added</th>\n",
       "      <th>time_updated</th>\n",
       "      <th>time_read</th>\n",
       "      <th>time_favorited</th>\n",
       "      <th>...</th>\n",
       "      <th>has_image</th>\n",
       "      <th>word_count</th>\n",
       "      <th>lang</th>\n",
       "      <th>amp_url</th>\n",
       "      <th>top_image_url</th>\n",
       "      <th>tags</th>\n",
       "      <th>authors</th>\n",
       "      <th>image</th>\n",
       "      <th>images</th>\n",
       "      <th>listen_duration_estimate</th>\n",
       "    </tr>\n",
       "  </thead>\n",
       "  <tbody>\n",
       "    <tr>\n",
       "      <th>0</th>\n",
       "      <td>2011690338</td>\n",
       "      <td>2011690338</td>\n",
       "      <td>http://www.marrakech-cityguide.com/site-archeo...</td>\n",
       "      <td>Site archéologique de AGHMAT à 32 km de Marrakech</td>\n",
       "      <td>0</td>\n",
       "      <td>0</td>\n",
       "      <td>1514897227</td>\n",
       "      <td>1514903673</td>\n",
       "      <td>0</td>\n",
       "      <td>0</td>\n",
       "      <td>...</td>\n",
       "      <td>1</td>\n",
       "      <td>225</td>\n",
       "      <td>fr</td>\n",
       "      <td>http://www.marrakech-cityguide.com/site-archeo...</td>\n",
       "      <td>http://www.marrakech-cityguide.com/wp-content/...</td>\n",
       "      <td>{'archéologie': {'item_id': '2011690338', 'tag...</td>\n",
       "      <td>{'49416574': {'item_id': '2011690338', 'author...</td>\n",
       "      <td>{'item_id': '2011690338', 'src': 'http://www.m...</td>\n",
       "      <td>{'1': {'item_id': '2011690338', 'image_id': '1...</td>\n",
       "      <td>87</td>\n",
       "    </tr>\n",
       "  </tbody>\n",
       "</table>\n",
       "<p>1 rows × 27 columns</p>\n",
       "</div>"
      ],
      "text/plain": [
       "      item_id  resolved_id                                          given_url  \\\n",
       "0  2011690338   2011690338  http://www.marrakech-cityguide.com/site-archeo...   \n",
       "\n",
       "                                         given_title  favorite  status  \\\n",
       "0  Site archéologique de AGHMAT à 32 km de Marrakech         0       0   \n",
       "\n",
       "   time_added  time_updated  time_read  time_favorited  ...  has_image  \\\n",
       "0  1514897227    1514903673          0               0  ...          1   \n",
       "\n",
       "  word_count lang                                            amp_url  \\\n",
       "0        225   fr  http://www.marrakech-cityguide.com/site-archeo...   \n",
       "\n",
       "                                       top_image_url  \\\n",
       "0  http://www.marrakech-cityguide.com/wp-content/...   \n",
       "\n",
       "                                                tags  \\\n",
       "0  {'archéologie': {'item_id': '2011690338', 'tag...   \n",
       "\n",
       "                                             authors  \\\n",
       "0  {'49416574': {'item_id': '2011690338', 'author...   \n",
       "\n",
       "                                               image  \\\n",
       "0  {'item_id': '2011690338', 'src': 'http://www.m...   \n",
       "\n",
       "                                              images listen_duration_estimate  \n",
       "0  {'1': {'item_id': '2011690338', 'image_id': '1...                       87  \n",
       "\n",
       "[1 rows x 27 columns]"
      ]
     },
     "execution_count": 30,
     "metadata": {},
     "output_type": "execute_result"
    }
   ],
   "source": [
    "data = pd.read_json(json.dumps(pocket_items_list))\n",
    "data"
   ]
  },
  {
   "cell_type": "code",
   "execution_count": 45,
   "metadata": {},
   "outputs": [
    {
     "data": {
      "application/vnd.jupyter.widget-view+json": {
       "model_id": "ead22c35cdeb4dacbe74e77d4039478e"
      },
      "text/html": [
       "<div>\n",
       "<style scoped>\n",
       "    .dataframe tbody tr th:only-of-type {\n",
       "        vertical-align: middle;\n",
       "    }\n",
       "\n",
       "    .dataframe tbody tr th {\n",
       "        vertical-align: top;\n",
       "    }\n",
       "\n",
       "    .dataframe thead th {\n",
       "        text-align: right;\n",
       "    }\n",
       "</style>\n",
       "<table border=\"1\" class=\"dataframe\">\n",
       "  <thead>\n",
       "    <tr style=\"text-align: right;\">\n",
       "      <th></th>\n",
       "      <th>lien</th>\n",
       "      <th>titre</th>\n",
       "      <th>resolved_title</th>\n",
       "      <th>date</th>\n",
       "      <th>heure</th>\n",
       "    </tr>\n",
       "  </thead>\n",
       "  <tbody>\n",
       "    <tr>\n",
       "      <td>0</td>\n",
       "      <td>https://fr.wikipedia.org/wiki/Haskell</td>\n",
       "      <td>Haskell — Wikipédia</td>\n",
       "      <td>Haskell</td>\n",
       "      <td>02/04/20</td>\n",
       "      <td>14:18:46</td>\n",
       "    </tr>\n",
       "    <tr>\n",
       "      <td>1</td>\n",
       "      <td>https://fr.wikipedia.org/wiki/Cegedim</td>\n",
       "      <td>Cegedim — Wikipédia</td>\n",
       "      <td>Cegedim</td>\n",
       "      <td>02/04/20</td>\n",
       "      <td>10:08:25</td>\n",
       "    </tr>\n",
       "    <tr>\n",
       "      <td>2</td>\n",
       "      <td>https://www.efficy.com/fr/</td>\n",
       "      <td>Efficy, solutions CRM pour la gestion de la Re...</td>\n",
       "      <td>Efficy, Ambition 53</td>\n",
       "      <td>02/04/20</td>\n",
       "      <td>10:08:08</td>\n",
       "    </tr>\n",
       "    <tr>\n",
       "      <td>3</td>\n",
       "      <td>https://www.bdoc.com/references/partenaires/#j...</td>\n",
       "      <td>Partenaires - BDOC</td>\n",
       "      <td>Partenaires</td>\n",
       "      <td>02/04/20</td>\n",
       "      <td>10:07:55</td>\n",
       "    </tr>\n",
       "    <tr>\n",
       "      <td>4</td>\n",
       "      <td>http://www.deeplearningbook.org/</td>\n",
       "      <td>Deep Learning</td>\n",
       "      <td>Deep Learning</td>\n",
       "      <td>02/04/20</td>\n",
       "      <td>10:07:30</td>\n",
       "    </tr>\n",
       "    <tr>\n",
       "      <td>...</td>\n",
       "      <td>...</td>\n",
       "      <td>...</td>\n",
       "      <td>...</td>\n",
       "      <td>...</td>\n",
       "      <td>...</td>\n",
       "    </tr>\n",
       "    <tr>\n",
       "      <td>128</td>\n",
       "      <td>http://www.wordreference.com/enfr/go%20through</td>\n",
       "      <td>go through - English-French Dictionary WordRef...</td>\n",
       "      <td></td>\n",
       "      <td>08/02/18</td>\n",
       "      <td>10:39:53</td>\n",
       "    </tr>\n",
       "    <tr>\n",
       "      <td>129</td>\n",
       "      <td>https://dictionary.cambridge.org/fr/dictionnai...</td>\n",
       "      <td>work through something définition dans le dict...</td>\n",
       "      <td>work through something définition dans le dict...</td>\n",
       "      <td>08/02/18</td>\n",
       "      <td>10:39:28</td>\n",
       "    </tr>\n",
       "    <tr>\n",
       "      <td>130</td>\n",
       "      <td>https://www.urbandictionary.com/define.php?ter...</td>\n",
       "      <td>Urban Dictionary: sb. ain't got shit on me</td>\n",
       "      <td>sb. ain't got shit on me</td>\n",
       "      <td>08/02/18</td>\n",
       "      <td>10:36:13</td>\n",
       "    </tr>\n",
       "    <tr>\n",
       "      <td>131</td>\n",
       "      <td>http://www.marrakech-cityguide.com/site-archeo...</td>\n",
       "      <td>Site archéologique de AGHMAT à 32 km de Marrakech</td>\n",
       "      <td>Site archéologique de AGHMAT</td>\n",
       "      <td>02/01/18</td>\n",
       "      <td>12:47:07</td>\n",
       "    </tr>\n",
       "    <tr>\n",
       "      <td>132</td>\n",
       "      <td>https://www.bizjournals.com/sanjose/news/2017/...</td>\n",
       "      <td>Artificial intelligence hindered by talent sho...</td>\n",
       "      <td></td>\n",
       "      <td>02/01/18</td>\n",
       "      <td>00:00:43</td>\n",
       "    </tr>\n",
       "  </tbody>\n",
       "</table>\n",
       "<p>133 rows × 5 columns</p>\n",
       "</div>"
      ],
      "text/plain": [
       "                                                  lien  \\\n",
       "0                https://fr.wikipedia.org/wiki/Haskell   \n",
       "1                https://fr.wikipedia.org/wiki/Cegedim   \n",
       "2                           https://www.efficy.com/fr/   \n",
       "3    https://www.bdoc.com/references/partenaires/#j...   \n",
       "4                     http://www.deeplearningbook.org/   \n",
       "..                                                 ...   \n",
       "128     http://www.wordreference.com/enfr/go%20through   \n",
       "129  https://dictionary.cambridge.org/fr/dictionnai...   \n",
       "130  https://www.urbandictionary.com/define.php?ter...   \n",
       "131  http://www.marrakech-cityguide.com/site-archeo...   \n",
       "132  https://www.bizjournals.com/sanjose/news/2017/...   \n",
       "\n",
       "                                                 titre  \\\n",
       "0                                  Haskell — Wikipédia   \n",
       "1                                  Cegedim — Wikipédia   \n",
       "2    Efficy, solutions CRM pour la gestion de la Re...   \n",
       "3                                   Partenaires - BDOC   \n",
       "4                                        Deep Learning   \n",
       "..                                                 ...   \n",
       "128  go through - English-French Dictionary WordRef...   \n",
       "129  work through something définition dans le dict...   \n",
       "130         Urban Dictionary: sb. ain't got shit on me   \n",
       "131  Site archéologique de AGHMAT à 32 km de Marrakech   \n",
       "132  Artificial intelligence hindered by talent sho...   \n",
       "\n",
       "                                        resolved_title      date     heure  \n",
       "0                                              Haskell  02/04/20  14:18:46  \n",
       "1                                              Cegedim  02/04/20  10:08:25  \n",
       "2                                  Efficy, Ambition 53  02/04/20  10:08:08  \n",
       "3                                          Partenaires  02/04/20  10:07:55  \n",
       "4                                        Deep Learning  02/04/20  10:07:30  \n",
       "..                                                 ...       ...       ...  \n",
       "128                                                     08/02/18  10:39:53  \n",
       "129  work through something définition dans le dict...  08/02/18  10:39:28  \n",
       "130                           sb. ain't got shit on me  08/02/18  10:36:13  \n",
       "131                       Site archéologique de AGHMAT  02/01/18  12:47:07  \n",
       "132                                                     02/01/18  00:00:43  \n",
       "\n",
       "[133 rows x 5 columns]"
      ]
     },
     "metadata": {},
     "output_type": "display_data"
    }
   ],
   "source": [
    "reduced_data = pd.DataFrame(data, columns=['given_url','given_title','resolved_title'])\n",
    "reduced_data = reduced_data.rename(columns={'given_url': 'lien','given_title': 'titre'})\n",
    "reduced_data['date'] = data['time_added'].apply(lambda x:datetime.fromtimestamp(x).strftime('%d/%m/%y'))\n",
    "reduced_data['heure'] = data['time_added'].apply(lambda x:datetime.fromtimestamp(x).strftime('%H:%M:%S'))\n",
    "reduced_data['resolved_title'] = data['resolved_title']\n",
    "reduced_data\n",
    "\n",
    "\n"
   ]
  }
 ],
 "metadata": {
  "kernelspec": {
   "display_name": "Python 3",
   "language": "python",
   "name": "python3"
  },
  "language_info": {
   "codemirror_mode": {
    "name": "ipython",
    "version": 3
   },
   "file_extension": ".py",
   "mimetype": "text/x-python",
   "name": "python",
   "nbconvert_exporter": "python",
   "pygments_lexer": "ipython3",
   "version": "3.7.5"
  }
 },
 "nbformat": 4,
 "nbformat_minor": 4
}
