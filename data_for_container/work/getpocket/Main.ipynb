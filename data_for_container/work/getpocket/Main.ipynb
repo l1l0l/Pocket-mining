{
 "cells": [
  {
   "cell_type": "code",
   "execution_count": 1,
   "metadata": {},
   "outputs": [],
   "source": [
    "#import bamboolib\n",
    "import json\n",
    "from functools import reduce\n",
    "import pandas as pd\n",
    "from datetime import datetime\n",
    "from pocket_api import *\n",
    "from config import CONSUMER_KEY, ACCESS_TOKEN\n",
    "from ipywidgets import interact, interactive, fixed, interact_manual\n",
    "import types\n",
    "from pprint import pprint as pp"
   ]
  },
  {
   "cell_type": "code",
   "execution_count": 4,
   "metadata": {
    "collapsed": true,
    "jupyter": {
     "outputs_hidden": true
    }
   },
   "outputs": [
    {
     "data": {
      "text/plain": [
       "[{'annotation_id': '0388FF6A-A1BA-44EE-AB03-6BEA448D4786',\n",
       "  'item_id': '2953023031',\n",
       "  'quote': \"Apparue au début des années 1940, la technique du refroidissement mécanique a transformé l'alimentation humaine\",\n",
       "  'patch': '@@ -1831,16 +1831,36 @@\\n i 2025. \\n+%3Cpkt_tag_annotation%3E\\n Apparue \\n@@ -1962,16 +1962,37 @@\\n  humaine\\n+%3C/pkt_tag_annotation%3E\\n , mais e\\n',\n",
       "  'version': '2',\n",
       "  'created_at': '2020-04-17 04:58:44'},\n",
       " {'annotation_id': '21237CE6-0339-4652-A125-4B20712F4819',\n",
       "  'item_id': '2953023031',\n",
       "  'quote': 'une alternative à la pasteurisation grâce à un traitement à très haute pression du lait, qui permet de le conserver quatre fois plus longtemps.',\n",
       "  'patch': '@@ -2592,16 +2592,36 @@\\n  trouv%C3%A9 \\n+%3Cpkt_tag_annotation%3E\\n une alte\\n@@ -2755,16 +2755,37 @@\\n ngtemps.\\n+%3C/pkt_tag_annotation%3E\\n %0A       \\n',\n",
       "  'version': '2',\n",
       "  'created_at': '2020-04-17 05:03:53'},\n",
       " {'annotation_id': '2BB4B6A8-C474-4B02-B9D6-8721B7977BC4',\n",
       "  'item_id': '2953023031',\n",
       "  'quote': \"mais elle est aujourd'hui pointée du doigt pour sa contribution au dérèglement climatique.\",\n",
       "  'patch': '@@ -1944,16 +1944,36 @@\\n umaine, \\n+%3Cpkt_tag_annotation%3E\\n mais ell\\n@@ -2054,16 +2054,37 @@\\n matique.\\n+%3C/pkt_tag_annotation%3E\\n Les fuit\\n',\n",
       "  'version': '2',\n",
       "  'created_at': '2020-04-17 04:59:32'},\n",
       " {'annotation_id': '52ECC532-983B-4340-8052-51239F123384',\n",
       "  'item_id': '2953023031',\n",
       "  'quote': \"Les fuites d'hydrofluorocarbones dues aux véhicules réfrigérés sont 100 fois plus toxiques pour l'environnement que le CO2\",\n",
       "  'patch': '@@ -2034,16 +2034,36 @@\\n matique.\\n+%3Cpkt_tag_annotation%3E\\n Les fuit\\n@@ -2176,16 +2176,37 @@\\n e le CO2\\n+%3C/pkt_tag_annotation%3E\\n . Un v%C3%A9r\\n',\n",
       "  'version': '2',\n",
       "  'created_at': '2020-04-17 05:01:56'},\n",
       " {'annotation_id': '5C25F2B7-5391-4A45-8803-BA5EA39E1920',\n",
       "  'item_id': '2953023031',\n",
       "  'quote': 'Mais son opus majeur reste le «Nova», un moteur à azote liquide.',\n",
       "  'patch': '@@ -432,16 +432,36 @@\\n ulances.\\n+%3Cpkt_tag_annotation%3E\\n Mais son\\n@@ -516,16 +516,37 @@\\n liquide.\\n+%3C/pkt_tag_annotation%3E\\n  %C3%80 la di\\n',\n",
       "  'version': '2',\n",
       "  'created_at': '2020-04-17 04:55:49'},\n",
       " {'annotation_id': '6152151F-CD92-4137-922E-9AFC6CC82845',\n",
       "  'item_id': '2953023031',\n",
       "  'quote': 'Né en 1951, Peter Dearman est un véritable serial inventeur',\n",
       "  'patch': '@@ -193,16 +193,36 @@\\n         \\n+%3Cpkt_tag_annotation%3E\\n N%C3%A9 en 19\\n@@ -272,16 +272,37 @@\\n nventeur\\n+%3C/pkt_tag_annotation%3E\\n . Ce pas\\n',\n",
       "  'version': '2',\n",
       "  'created_at': '2020-04-17 04:55:43'},\n",
       " {'annotation_id': '7BD626F9-9EC0-4780-9140-7ACC8C021A1D',\n",
       "  'item_id': '2953023031',\n",
       "  'quote': \"réfrigération représente un sixième de la consommation mondiale d'électricité,\",\n",
       "  'patch': \"@@ -2181,24 +2181,44 @@\\n %C3%A9au, car la \\n+%3Cpkt_tag_annotation%3E\\n r%C3%A9frig%C3%A9ratio\\n@@ -2283,16 +2283,37 @@\\n tricit%C3%A9,\\n+%3C/pkt_tag_annotation%3E\\n  et l'on\\n\",\n",
       "  'version': '2',\n",
       "  'created_at': '2020-04-17 05:02:10'},\n",
       " {'annotation_id': 'FAFCDE54-C5EF-4587-B99F-E2D6ABC9D82E',\n",
       "  'item_id': '2953023031',\n",
       "  'quote': 'À la différence des moteurs traditionnels, il ne fonctionne plus grâce à la chaleur mais grâce au froid',\n",
       "  'patch': '@@ -497,16 +497,36 @@\\n iquide. \\n+%3Cpkt_tag_annotation%3E\\n %C3%80 la dif\\n@@ -620,16 +620,37 @@\\n au froid\\n+%3C/pkt_tag_annotation%3E\\n . %C3%89colog\\n',\n",
       "  'version': '2',\n",
       "  'created_at': '2020-04-17 04:56:11'}]"
      ]
     },
     "execution_count": 4,
     "metadata": {},
     "output_type": "execute_result"
    }
   ],
   "source": [
    "retrieve_json['list']['2953023031']['annotations']"
   ]
  },
  {
   "cell_type": "code",
   "execution_count": 2,
   "metadata": {},
   "outputs": [],
   "source": [
    "retrieve_json = retrieve(detailType='complete', sort='newest', search='', domain='', annotations=1)#; (retrieve_json)"
   ]
  },
  {
   "cell_type": "code",
   "execution_count": 3,
   "metadata": {},
   "outputs": [
    {
     "name": "stdout",
     "output_type": "stream",
     "text": [
      "+ status : attribute\n",
      "+ complete : attribute\n",
      "+ list : ONE_TO_MANY\n",
      "+ error : attribute\n",
      "+ search_meta : ONE_TO_ONE\n",
      "+ cachetype : attribute\n",
      "+ maxActions : attribute\n",
      "+ since : attribute\n"
     ]
    }
   ],
   "source": [
    "model(retrieve_json)"
   ]
  },
  {
   "cell_type": "code",
   "execution_count": 3,
   "metadata": {},
   "outputs": [
    {
     "name": "stdout",
     "output_type": "stream",
     "text": [
      "+ item_id : attribute\n",
      "+ resolved_id : attribute\n",
      "+ given_url : attribute\n",
      "+ given_title : attribute\n",
      "+ favorite : attribute\n",
      "+ status : attribute\n",
      "+ time_added : attribute\n",
      "+ time_updated : attribute\n",
      "+ time_read : attribute\n",
      "+ time_favorited : attribute\n",
      "+ sort_id : attribute\n",
      "+ resolved_title : attribute\n",
      "+ resolved_url : attribute\n",
      "+ excerpt : attribute\n",
      "+ is_article : attribute\n",
      "+ is_index : attribute\n",
      "+ has_video : attribute\n",
      "+ has_image : attribute\n",
      "+ word_count : attribute\n",
      "+ lang : attribute\n",
      "+ amp_url : attribute\n",
      "+ top_image_url : attribute\n",
      "+ tags : attribute(list)?\n",
      "+ authors : ONE_TO_MANY\n",
      "+ annotations : ONE_TO_MANY\n",
      "+ listen_duration_estimate : attribute\n"
     ]
    }
   ],
   "source": [
    "model(retrieve_json['list']['2953023031'])"
   ]
  },
  {
   "cell_type": "code",
   "execution_count": 7,
   "metadata": {
    "collapsed": true,
    "jupyter": {
     "outputs_hidden": true
    }
   },
   "outputs": [
    {
     "data": {
      "text/plain": [
       "['__build__',\n",
       " '__class__',\n",
       " '__delattr__',\n",
       " '__dict__',\n",
       " '__dir__',\n",
       " '__doc__',\n",
       " '__eq__',\n",
       " '__format__',\n",
       " '__ge__',\n",
       " '__getattribute__',\n",
       " '__gt__',\n",
       " '__hash__',\n",
       " '__init__',\n",
       " '__init_subclass__',\n",
       " '__le__',\n",
       " '__lt__',\n",
       " '__module__',\n",
       " '__ne__',\n",
       " '__new__',\n",
       " '__reduce__',\n",
       " '__reduce_ex__',\n",
       " '__repr__',\n",
       " '__setattr__',\n",
       " '__sizeof__',\n",
       " '__str__',\n",
       " '__subclasshook__',\n",
       " '__weakref__',\n",
       " 'from_json']"
      ]
     },
     "execution_count": 7,
     "metadata": {},
     "output_type": "execute_result"
    }
   ],
   "source": [
    "pocket = Pocket(**retrieve_json)\n",
    "dir(pocket)\n",
    "#value_list(pocket.list)\n",
    "dir(pocket.list)"
   ]
  },
  {
   "cell_type": "code",
   "execution_count": 42,
   "metadata": {},
   "outputs": [
    {
     "data": {
      "text/plain": [
       "'Page'"
      ]
     },
     "execution_count": 42,
     "metadata": {},
     "output_type": "execute_result"
    }
   ],
   "source": [
    "x = Element.__subclasses__()\n",
    "x[0].__name__"
   ]
  },
  {
   "cell_type": "code",
   "execution_count": 46,
   "metadata": {
    "collapsed": true,
    "jupyter": {
     "outputs_hidden": true
    }
   },
   "outputs": [
    {
     "data": {
      "text/plain": [
       "{'item_id': '2943083014',\n",
       " 'resolved_id': '2943083014',\n",
       " 'given_url': 'https://www.chosesasavoir.com/quest-mur-de-planck/',\n",
       " 'given_title': \"Qu'est-ce que le mur de Planck ?\",\n",
       " 'favorite': '0',\n",
       " 'status': '0',\n",
       " 'time_added': '1586355659',\n",
       " 'time_updated': '1586355664',\n",
       " 'time_read': '0',\n",
       " 'time_favorited': '0',\n",
       " 'sort_id': 0,\n",
       " 'resolved_title': 'Qu’est-ce que le mur de Planck ?',\n",
       " 'resolved_url': 'https://www.chosesasavoir.com/quest-mur-de-planck/',\n",
       " 'excerpt': '. Pour répondre à cette question, il faut d’abord dire quelques mots sur le Big Bang. Il s’agit vous le savez, de “l’instant 0” de notre Univers.',\n",
       " 'is_article': '1',\n",
       " 'is_index': '0',\n",
       " 'has_video': '0',\n",
       " 'has_image': '0',\n",
       " 'word_count': '358',\n",
       " 'lang': 'fr',\n",
       " 'top_image_url': 'https://www.chosesasavoir.com/wp-content/uploads/2019/01/planck.jpg',\n",
       " 'listen_duration_estimate': 139}"
      ]
     },
     "execution_count": 46,
     "metadata": {},
     "output_type": "execute_result"
    }
   ],
   "source": [
    "items_json = retrieve_items(detailType='complete', sort='newest', search='', domain='')\n",
    "items_json[0]"
   ]
  },
  {
   "cell_type": "code",
   "execution_count": 3,
   "metadata": {},
   "outputs": [],
   "source": [
    "p = Page(**items_json[10])\n",
    "x = p.tags[0]"
   ]
  },
  {
   "cell_type": "code",
   "execution_count": 4,
   "metadata": {
    "collapsed": true,
    "jupyter": {
     "outputs_hidden": true
    }
   },
   "outputs": [
    {
     "data": {
      "text/plain": [
       "L'objet Page a pour attributs:\n",
       "\titem_id = 293944626\n",
       "\tresolved_id = 293944626\n",
       "\tgiven_url = https://fr.wikipedia.org/wiki/Keyhole_Markup_Language\n",
       "\tgiven_title = Keyhole Markup Language — Wikipédia\n",
       "\tfavorite = 0\n",
       "\tstatus = 0\n",
       "\ttime_added = 1586101545\n",
       "\ttime_updated = 1586101551\n",
       "\ttime_read = 0\n",
       "\ttime_favorited = 0\n",
       "\tsort_id = 10\n",
       "\tresolved_title = Keyhole Markup Language\n",
       "\tresolved_url = https://fr.wikipedia.org/wiki/Keyhole_Markup_Language\n",
       "\texcerpt = KML (Keyhole Markup Language) que l'on peut traduire par « langage à base de balises géolocales », est un langage fondé sur le formalisme XML et destiné à la gestion de l'affichage de données géospatiales dans les logiciels de SIG.\n",
       "\tis_article = 1\n",
       "\tis_index = 0\n",
       "\thas_video = 0\n",
       "\thas_image = 1\n",
       "\tword_count = 491\n",
       "\tlang = \n",
       "\ttags = [culture geek, sig]\n",
       "\tlisten_duration_estimate = 190"
      ]
     },
     "execution_count": 4,
     "metadata": {},
     "output_type": "execute_result"
    }
   ],
   "source": [
    "p"
   ]
  },
  {
   "cell_type": "code",
   "execution_count": 5,
   "metadata": {
    "collapsed": true,
    "jupyter": {
     "outputs_hidden": true
    }
   },
   "outputs": [
    {
     "name": "stdout",
     "output_type": "stream",
     "text": [
      "culture geek\n",
      "sig\n"
     ]
    },
    {
     "data": {
      "text/plain": [
       "[, ]"
      ]
     },
     "execution_count": 5,
     "metadata": {},
     "output_type": "execute_result"
    }
   ],
   "source": [
    "p.tags"
   ]
  },
  {
   "cell_type": "code",
   "execution_count": 4,
   "metadata": {},
   "outputs": [],
   "source": [
    "items_json = retrieve_items(detailType='complete', sort='newest', search='python', domain='geek')\n",
    "p = Page(**items_json[0])\n",
    "x = type(getattr(p, \"__dict__\"))\n",
    "if x == types.MethodType:\n",
    "    print(\"x is a method\")\n",
    "#p.__dir__()[0] <##> p.__dir__() est la liste des attributs et méthodes de la classe\n",
    "#p.__dir__()\n",
    "y = p.__dir__()[30]"
   ]
  },
  {
   "cell_type": "code",
   "execution_count": 17,
   "metadata": {},
   "outputs": [
    {
     "data": {
      "text/html": [
       "<div>\n",
       "<style scoped>\n",
       "    .dataframe tbody tr th:only-of-type {\n",
       "        vertical-align: middle;\n",
       "    }\n",
       "\n",
       "    .dataframe tbody tr th {\n",
       "        vertical-align: top;\n",
       "    }\n",
       "\n",
       "    .dataframe thead th {\n",
       "        text-align: right;\n",
       "    }\n",
       "</style>\n",
       "<table border=\"1\" class=\"dataframe\">\n",
       "  <thead>\n",
       "    <tr style=\"text-align: right;\">\n",
       "      <th></th>\n",
       "      <th>item_id</th>\n",
       "      <th>resolved_id</th>\n",
       "      <th>given_url</th>\n",
       "      <th>given_title</th>\n",
       "      <th>favorite</th>\n",
       "      <th>status</th>\n",
       "      <th>time_added</th>\n",
       "      <th>time_updated</th>\n",
       "      <th>time_read</th>\n",
       "      <th>time_favorited</th>\n",
       "      <th>...</th>\n",
       "      <th>has_image</th>\n",
       "      <th>word_count</th>\n",
       "      <th>lang</th>\n",
       "      <th>top_image_url</th>\n",
       "      <th>tags</th>\n",
       "      <th>domain_metadata</th>\n",
       "      <th>listen_duration_estimate</th>\n",
       "      <th>amp_url</th>\n",
       "      <th>image</th>\n",
       "      <th>images</th>\n",
       "    </tr>\n",
       "  </thead>\n",
       "  <tbody>\n",
       "    <tr>\n",
       "      <th>0</th>\n",
       "      <td>1764455755</td>\n",
       "      <td>1764455755</td>\n",
       "      <td>https://www.geeksforgeeks.org/args-kwargs-python/</td>\n",
       "      <td>*args and **kwargs in Python - GeeksforGeeks</td>\n",
       "      <td>0</td>\n",
       "      <td>0</td>\n",
       "      <td>1585930618</td>\n",
       "      <td>1585930626</td>\n",
       "      <td>0</td>\n",
       "      <td>0</td>\n",
       "      <td>...</td>\n",
       "      <td>0</td>\n",
       "      <td>480</td>\n",
       "      <td>en</td>\n",
       "      <td>http://www.geeksforgeeks.org/wp-content/upload...</td>\n",
       "      <td>{'python': {'item_id': '1764455755', 'tag': 'p...</td>\n",
       "      <td>{'name': 'GeeksforGeeks', 'logo': 'https://log...</td>\n",
       "      <td>186</td>\n",
       "      <td>NaN</td>\n",
       "      <td>NaN</td>\n",
       "      <td>NaN</td>\n",
       "    </tr>\n",
       "    <tr>\n",
       "      <th>1</th>\n",
       "      <td>2354577597</td>\n",
       "      <td>2354577597</td>\n",
       "      <td>https://www.geeksforgeeks.org/python-play-a-vi...</td>\n",
       "      <td>Python | Play a video using OpenCV - GeeksforG...</td>\n",
       "      <td>0</td>\n",
       "      <td>0</td>\n",
       "      <td>1585912920</td>\n",
       "      <td>1585912925</td>\n",
       "      <td>0</td>\n",
       "      <td>0</td>\n",
       "      <td>...</td>\n",
       "      <td>1</td>\n",
       "      <td>211</td>\n",
       "      <td>en</td>\n",
       "      <td>https://www.geeksforgeeks.org/wp-content/uploa...</td>\n",
       "      <td>{'geek': {'item_id': '2354577597', 'tag': 'gee...</td>\n",
       "      <td>{'name': 'GeeksforGeeks', 'logo': 'https://log...</td>\n",
       "      <td>82</td>\n",
       "      <td>https://www.geeksforgeeks.org/python-play-a-vi...</td>\n",
       "      <td>{'item_id': '2354577597', 'src': 'https://medi...</td>\n",
       "      <td>{'1': {'item_id': '2354577597', 'image_id': '1...</td>\n",
       "    </tr>\n",
       "  </tbody>\n",
       "</table>\n",
       "<p>2 rows × 27 columns</p>\n",
       "</div>"
      ],
      "text/plain": [
       "      item_id  resolved_id                                          given_url  \\\n",
       "0  1764455755   1764455755  https://www.geeksforgeeks.org/args-kwargs-python/   \n",
       "1  2354577597   2354577597  https://www.geeksforgeeks.org/python-play-a-vi...   \n",
       "\n",
       "                                         given_title  favorite  status  \\\n",
       "0       *args and **kwargs in Python - GeeksforGeeks         0       0   \n",
       "1  Python | Play a video using OpenCV - GeeksforG...         0       0   \n",
       "\n",
       "   time_added  time_updated  time_read  time_favorited  ...  has_image  \\\n",
       "0  1585930618    1585930626          0               0  ...          0   \n",
       "1  1585912920    1585912925          0               0  ...          1   \n",
       "\n",
       "  word_count lang                                      top_image_url  \\\n",
       "0        480   en  http://www.geeksforgeeks.org/wp-content/upload...   \n",
       "1        211   en  https://www.geeksforgeeks.org/wp-content/uploa...   \n",
       "\n",
       "                                                tags  \\\n",
       "0  {'python': {'item_id': '1764455755', 'tag': 'p...   \n",
       "1  {'geek': {'item_id': '2354577597', 'tag': 'gee...   \n",
       "\n",
       "                                     domain_metadata  \\\n",
       "0  {'name': 'GeeksforGeeks', 'logo': 'https://log...   \n",
       "1  {'name': 'GeeksforGeeks', 'logo': 'https://log...   \n",
       "\n",
       "   listen_duration_estimate  \\\n",
       "0                       186   \n",
       "1                        82   \n",
       "\n",
       "                                             amp_url  \\\n",
       "0                                                NaN   \n",
       "1  https://www.geeksforgeeks.org/python-play-a-vi...   \n",
       "\n",
       "                                               image  \\\n",
       "0                                                NaN   \n",
       "1  {'item_id': '2354577597', 'src': 'https://medi...   \n",
       "\n",
       "                                              images  \n",
       "0                                                NaN  \n",
       "1  {'1': {'item_id': '2354577597', 'image_id': '1...  \n",
       "\n",
       "[2 rows x 27 columns]"
      ]
     },
     "execution_count": 17,
     "metadata": {},
     "output_type": "execute_result"
    }
   ],
   "source": [
    "data = pd.read_json(json.dumps(items_json))\n",
    "data"
   ]
  },
  {
   "cell_type": "code",
   "execution_count": 18,
   "metadata": {},
   "outputs": [
    {
     "data": {
      "text/html": [
       "<div>\n",
       "<style scoped>\n",
       "    .dataframe tbody tr th:only-of-type {\n",
       "        vertical-align: middle;\n",
       "    }\n",
       "\n",
       "    .dataframe tbody tr th {\n",
       "        vertical-align: top;\n",
       "    }\n",
       "\n",
       "    .dataframe thead th {\n",
       "        text-align: right;\n",
       "    }\n",
       "</style>\n",
       "<table border=\"1\" class=\"dataframe\">\n",
       "  <thead>\n",
       "    <tr style=\"text-align: right;\">\n",
       "      <th></th>\n",
       "      <th>lien</th>\n",
       "      <th>titre</th>\n",
       "      <th>resolved_title</th>\n",
       "      <th>date</th>\n",
       "      <th>heure</th>\n",
       "    </tr>\n",
       "  </thead>\n",
       "  <tbody>\n",
       "    <tr>\n",
       "      <th>0</th>\n",
       "      <td>https://www.geeksforgeeks.org/args-kwargs-python/</td>\n",
       "      <td>*args and **kwargs in Python - GeeksforGeeks</td>\n",
       "      <td>*args and **kwargs in Python</td>\n",
       "      <td>03/04/20</td>\n",
       "      <td>18:16:58</td>\n",
       "    </tr>\n",
       "    <tr>\n",
       "      <th>1</th>\n",
       "      <td>https://www.geeksforgeeks.org/python-play-a-vi...</td>\n",
       "      <td>Python | Play a video using OpenCV - GeeksforG...</td>\n",
       "      <td>Python | Play a video using OpenCV</td>\n",
       "      <td>03/04/20</td>\n",
       "      <td>13:22:00</td>\n",
       "    </tr>\n",
       "  </tbody>\n",
       "</table>\n",
       "</div>"
      ],
      "text/plain": [
       "                                                lien  \\\n",
       "0  https://www.geeksforgeeks.org/args-kwargs-python/   \n",
       "1  https://www.geeksforgeeks.org/python-play-a-vi...   \n",
       "\n",
       "                                               titre  \\\n",
       "0       *args and **kwargs in Python - GeeksforGeeks   \n",
       "1  Python | Play a video using OpenCV - GeeksforG...   \n",
       "\n",
       "                       resolved_title      date     heure  \n",
       "0        *args and **kwargs in Python  03/04/20  18:16:58  \n",
       "1  Python | Play a video using OpenCV  03/04/20  13:22:00  "
      ]
     },
     "execution_count": 18,
     "metadata": {},
     "output_type": "execute_result"
    }
   ],
   "source": [
    "reduced_data = pd.DataFrame(data, columns=['given_url','given_title','resolved_title'])\n",
    "reduced_data = reduced_data.rename(columns={'given_url': 'lien','given_title': 'titre'})\n",
    "reduced_data['date'] = data['time_added'].apply(lambda x:datetime.fromtimestamp(x).strftime('%d/%m/%y'))\n",
    "reduced_data['heure'] = data['time_added'].apply(lambda x:datetime.fromtimestamp(x).strftime('%H:%M:%S'))\n",
    "reduced_data['resolved_title'] = data['resolved_title']\n",
    "reduced_data\n",
    "\n",
    "\n"
   ]
  }
 ],
 "metadata": {
  "kernelspec": {
   "display_name": "Python 3",
   "language": "python",
   "name": "python3"
  },
  "language_info": {
   "codemirror_mode": {
    "name": "ipython",
    "version": 3
   },
   "file_extension": ".py",
   "mimetype": "text/x-python",
   "name": "python",
   "nbconvert_exporter": "python",
   "pygments_lexer": "ipython3",
   "version": "3.7.5"
  }
 },
 "nbformat": 4,
 "nbformat_minor": 4
}
